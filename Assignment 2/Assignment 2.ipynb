{
 "cells": [
  {
   "attachments": {},
   "cell_type": "markdown",
   "metadata": {},
   "source": [
    "# Assignment 2"
   ]
  },
  {
   "attachments": {},
   "cell_type": "markdown",
   "metadata": {},
   "source": [
    "## Submit as an HTML file"
   ]
  },
  {
   "attachments": {},
   "cell_type": "markdown",
   "metadata": {},
   "source": [
    "<font size = \"5\">\n",
    "Print your name:"
   ]
  },
  {
   "cell_type": "code",
   "execution_count": 9,
   "metadata": {},
   "outputs": [
    {
     "name": "stdout",
     "output_type": "stream",
     "text": [
      "Aanya Vusirikala\n"
     ]
    }
   ],
   "source": [
    "print (\"Aanya Vusirikala\")"
   ]
  },
  {
   "attachments": {},
   "cell_type": "markdown",
   "metadata": {},
   "source": [
    "<font size = \"5\">\n",
    "\n",
    "(a) Import the pandas and matplotlib packages"
   ]
  },
  {
   "cell_type": "code",
   "execution_count": 10,
   "metadata": {},
   "outputs": [],
   "source": [
    "import matplotlib.pyplot as plt\n",
    "import pandas as pd"
   ]
  },
  {
   "attachments": {},
   "cell_type": "markdown",
   "metadata": {},
   "source": [
    "<font size = \"5\">\n",
    "\n",
    "(b) Open the dataset \"worldbank_wdi_2019.csv\" in the \"data\" folder\n",
    "\n",
    "<font size = \"3\">\n",
    "\n",
    "- Read it as a pandas object called \"wdi\"\n",
    "- Note: This is a subset of the World Development Indicators for 2019"
   ]
  },
  {
   "cell_type": "code",
   "execution_count": 11,
   "metadata": {},
   "outputs": [],
   "source": [
    "wdi = pd.read_csv('data/worldbank_wdi_2019.csv')"
   ]
  },
  {
   "attachments": {},
   "cell_type": "markdown",
   "metadata": {},
   "source": [
    "<font size = \"5\">\n",
    "\n",
    "(c) View the dataset and create a list of variable names\n",
    "\n"
   ]
  },
  {
   "cell_type": "code",
   "execution_count": 12,
   "metadata": {},
   "outputs": [
    {
     "name": "stdout",
     "output_type": "stream",
     "text": [
      "                                                 year    country_name  \\\n",
      "0                                                2019     Afghanistan   \n",
      "1                                                2019         Albania   \n",
      "2                                                2019         Algeria   \n",
      "3                                                2019  American Samoa   \n",
      "4                                                2019         Andorra   \n",
      "..                                                ...             ...   \n",
      "266                                               NaN             NaN   \n",
      "267                                               NaN             NaN   \n",
      "268                                               NaN             NaN   \n",
      "269  Data from database: World Development Indicators             NaN   \n",
      "270                          Last Updated: 12/22/2022             NaN   \n",
      "\n",
      "     life_expectancy  gdp_per_capita_usd  \n",
      "0             63.565          500.522664  \n",
      "1             79.282         5396.215864  \n",
      "2             76.474         4022.150184  \n",
      "3                NaN        13672.576660  \n",
      "4                NaN        41327.502030  \n",
      "..               ...                 ...  \n",
      "266              NaN                 NaN  \n",
      "267              NaN                 NaN  \n",
      "268              NaN                 NaN  \n",
      "269              NaN                 NaN  \n",
      "270              NaN                 NaN  \n",
      "\n",
      "[271 rows x 4 columns]\n"
     ]
    }
   ],
   "source": [
    "# Create a list, e.g. \"variable_names = [ \"name1\", \"name2\", \"name3\" ]\"\n",
    "# Manually type the names of the 5 variables\n",
    "print(wdi)\n",
    "variableNames = [\"year\", \"country_name\", \"life_expectancy\", \"gdp_per_capita_usd\"]"
   ]
  },
  {
   "attachments": {},
   "cell_type": "markdown",
   "metadata": {},
   "source": [
    "<font size = \"5\">\n",
    "\n",
    "(d) Compute descriptive statistics for the fourth variable in the dataset\n",
    "\n",
    "<font size = \"3\">\n",
    "\n",
    "- One way to do this is:\n",
    "\n",
    "wdi[\"gdp_per_capita_usd\"].describe()\n",
    "\n",
    "- Do something similar, but substitute \"gdp_per_capita_usd\" with a command that automatically extracts the fourth element in the list"
   ]
  },
  {
   "cell_type": "code",
   "execution_count": 13,
   "metadata": {},
   "outputs": [
    {
     "data": {
      "text/plain": [
       "count       255.000000\n",
       "mean      17230.949757\n",
       "std       25792.183785\n",
       "min         216.972968\n",
       "25%        2186.046581\n",
       "50%        6837.717826\n",
       "75%       19809.323135\n",
       "max      199377.481800\n",
       "Name: gdp_per_capita_usd, dtype: float64"
      ]
     },
     "execution_count": 13,
     "metadata": {},
     "output_type": "execute_result"
    }
   ],
   "source": [
    "# Remember that the numbering in Python starts at zero\n",
    "# For example:\n",
    "# list_colors = [\"red\",\"green\",\"yellow\"]\n",
    "# list_colors[2] will output \"yellow\"\n",
    "\n",
    "wdi[variableNames[3]].describe()\n"
   ]
  },
  {
   "attachments": {},
   "cell_type": "markdown",
   "metadata": {},
   "source": [
    "<font size = \"5\">\n",
    "\n",
    "(e) Show a scatter plot that shows \"gdp_per_capita_usd\" in the x-axis and \"lifexpectancy\" in the y-axis.\n",
    "\n",
    "<font size = \"3\">\n",
    "\n",
    "- Label the axes for full points\n",
    "- Note: This question does not depend on (d)"
   ]
  },
  {
   "cell_type": "code",
   "execution_count": 14,
   "metadata": {},
   "outputs": [
    {
     "data": {
      "text/plain": [
       "Text(0.5, 1.0, 'Life Expectancy vs GDP per capita in USD')"
      ]
     },
     "execution_count": 14,
     "metadata": {},
     "output_type": "execute_result"
    },
    {
     "data": {
      "image/png": "[encoded data removed]",
      "text/plain": [
       "<Figure size 640x480 with 1 Axes>"
      ]
     },
     "metadata": {},
     "output_type": "display_data"
    }
   ],
   "source": [
    "plt.scatter(x = wdi[variableNames[3]], y = wdi[variableNames[2]]) \n",
    "plt.xlabel(\"gdp per capita (usd)\")\n",
    "plt.ylabel(\"life expectancy (years)\")\n",
    "plt.title(\"Life Expectancy vs GDP per capita in USD\")"
   ]
  }
 ],
 "metadata": {
  "kernelspec": {
   "display_name": "Python 3",
   "language": "python",
   "name": "python3"
  },
  "language_info": {
   "codemirror_mode": {
    "name": "ipython",
    "version": 3
   },
   "file_extension": ".py",
   "mimetype": "text/x-python",
   "name": "python",
   "nbconvert_exporter": "python",
   "pygments_lexer": "ipython3",
   "version": "3.11.1"
  },
  "orig_nbformat": 4,
  "vscode": {
   "interpreter": {
    "hash": "aee8b7b246df8f9039afb4144a1f6fd8d2ca17a180786b69acc140d282b71a49"
   }
  }
 },
 "nbformat": 4,
 "nbformat_minor": 2
}
