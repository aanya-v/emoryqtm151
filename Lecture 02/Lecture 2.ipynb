{
 "cells": [
  {
   "attachments": {},
   "cell_type": "markdown",
   "metadata": {},
   "source": [
    "# <span style=\"color:darkblue\"> Lecture 2: Variables and Lists </span>"
   ]
  },
  {
   "attachments": {},
   "cell_type": "markdown",
   "metadata": {},
   "source": [
    "<font size=\"5\"> \n",
    "\n",
    "In the previous class we:\n",
    "- Reviewed the basic structure of Jupyter notebooks\n",
    "- Showed how to install and import libraries"
   ]
  },
  {
   "attachments": {},
   "cell_type": "markdown",
   "metadata": {},
   "source": [
    "<font size=\"5\"> \n",
    "\n",
    "In this class we will:\n",
    "\n",
    "- Introduce variables and lists\n",
    "- Compute a histogram plot\n",
    "- (Optional) Common pitfalls and understanding errors"
   ]
  },
  {
   "attachments": {},
   "cell_type": "markdown",
   "metadata": {},
   "source": [
    "# <span style=\"color:darkblue\"> Import Libraries </span>"
   ]
  },
  {
   "cell_type": "code",
<<<<<<< Updated upstream
   "execution_count": 21,
=======
   "execution_count": 3,
>>>>>>> Stashed changes
   "metadata": {},
   "outputs": [],
   "source": [
    "# The matplotlib library is used to create graphs\n",
    "\n",
    "import matplotlib.pyplot as plt"
   ]
  },
  {
   "attachments": {},
   "cell_type": "markdown",
   "metadata": {},
   "source": [
    "## "
   ]
  },
  {
   "attachments": {},
   "cell_type": "markdown",
   "metadata": {},
   "source": [
    "# <span style=\"color:darkblue\"> Variables and Data Types </span>"
   ]
  },
  {
   "attachments": {},
   "cell_type": "markdown",
   "metadata": {},
   "source": [
    "<font size=\"5\"> \n",
    "\n",
    "Identify the type of object\n",
    "- Integers, Floats (numbers with decimals) or strings (text)\n",
    "- Type is a function, with an argument in parenthesis (...)"
   ]
  },
  {
   "cell_type": "code",
<<<<<<< Updated upstream
   "execution_count": 22,
=======
   "execution_count": 4,
>>>>>>> Stashed changes
   "metadata": {},
   "outputs": [
    {
     "data": {
      "text/plain": [
       "int"
      ]
     },
<<<<<<< Updated upstream
     "execution_count": 22,
=======
     "execution_count": 4,
>>>>>>> Stashed changes
     "metadata": {},
     "output_type": "execute_result"
    }
   ],
   "source": [
    "type(3)"
   ]
  },
  {
   "cell_type": "code",
<<<<<<< Updated upstream
   "execution_count": 23,
=======
   "execution_count": 5,
>>>>>>> Stashed changes
   "metadata": {},
   "outputs": [
    {
     "data": {
      "text/plain": [
       "float"
      ]
     },
<<<<<<< Updated upstream
     "execution_count": 23,
=======
     "execution_count": 5,
>>>>>>> Stashed changes
     "metadata": {},
     "output_type": "execute_result"
    }
   ],
   "source": [
    "type(3.5)"
   ]
  },
  {
   "cell_type": "code",
<<<<<<< Updated upstream
   "execution_count": 24,
=======
   "execution_count": 6,
>>>>>>> Stashed changes
   "metadata": {},
   "outputs": [
    {
     "data": {
      "text/plain": [
       "str"
      ]
     },
<<<<<<< Updated upstream
     "execution_count": 24,
=======
     "execution_count": 6,
>>>>>>> Stashed changes
     "metadata": {},
     "output_type": "execute_result"
    }
   ],
   "source": [
    "type('hello')"
   ]
  },
  {
   "cell_type": "code",
<<<<<<< Updated upstream
   "execution_count": 25,
=======
   "execution_count": 7,
>>>>>>> Stashed changes
   "metadata": {},
   "outputs": [
    {
     "data": {
      "text/plain": [
       "str"
      ]
     },
<<<<<<< Updated upstream
     "execution_count": 25,
=======
     "execution_count": 7,
>>>>>>> Stashed changes
     "metadata": {},
     "output_type": "execute_result"
    }
   ],
   "source": [
    "# You can define strings with either single or double quotations.\n",
    "type(\"hello\")"
   ]
  },
  {
   "attachments": {},
   "cell_type": "markdown",
   "metadata": {},
   "source": [
    "<font size=\"5\"> \n",
    "\n",
    "Store Variables in memory\n",
    "\n",
    "- Assign variables with \"=\"\n",
    "- Write meaningful names, without spaces\n",
    "- Can use underscore \"_\"\n",
    "- Click \"Variables\" in the top panel of Jupyter Notebooks"
   ]
  },
  {
   "cell_type": "code",
<<<<<<< Updated upstream
   "execution_count": 26,
=======
   "execution_count": 8,
>>>>>>> Stashed changes
   "metadata": {},
   "outputs": [],
   "source": [
    "# Try choosing your names on the left of \"=\"\n",
    "\n",
    "number3        = 3\n",
    "number3andhalf = 3.5\n",
    "message_hello  = \"hello\"\n",
    "\n",
    "#python read right to left (left here acts as a custom name)\n",
    "#name in lowercase with underscores (instead of messageHello use message_hello)"
   ]
  },
  {
   "cell_type": "code",
<<<<<<< Updated upstream
   "execution_count": 27,
=======
   "execution_count": 9,
>>>>>>> Stashed changes
   "metadata": {},
   "outputs": [
    {
     "data": {
      "text/plain": [
       "3"
      ]
     },
<<<<<<< Updated upstream
     "execution_count": 27,
=======
     "execution_count": 9,
>>>>>>> Stashed changes
     "metadata": {},
     "output_type": "execute_result"
    }
   ],
   "source": [
    "# You can show the output by writing the name of the variable\n",
    "# Try including different variables\n",
    "\n",
    "number3\n",
    "\n",
    "#only outputs the last variable (need to use print for many outputs)"
   ]
  },
  {
   "cell_type": "code",
<<<<<<< Updated upstream
   "execution_count": 28,
=======
   "execution_count": 10,
>>>>>>> Stashed changes
   "metadata": {},
   "outputs": [
    {
     "name": "stdout",
     "output_type": "stream",
     "text": [
      "3\n",
      "3.5\n"
     ]
    }
   ],
   "source": [
    "# Jupyter only shows the output for the last object\n",
    "# You can show multiple outputs by using the function \"print\"\n",
    "\n",
    "print(number3)\n",
    "print(number3andhalf)"
   ]
  },
  {
   "attachments": {},
   "cell_type": "markdown",
   "metadata": {},
   "source": [
    "<font size=\"5\"> \n",
    "\n",
    "Basic operations on integers and floats\n",
    "\n",
    "- Addition (+), Multiplication (*), Subtraction (-), Division (/), Exponentiation (**)\n",
    "- If you try this on a string it will not work"
   ]
  },
  {
   "cell_type": "code",
<<<<<<< Updated upstream
   "execution_count": 29,
=======
   "execution_count": 11,
>>>>>>> Stashed changes
   "metadata": {},
   "outputs": [
    {
     "name": "stdout",
     "output_type": "stream",
     "text": [
      "6\n",
      "5\n",
      "1\n",
      "1.5\n",
      "9\n"
     ]
    }
   ],
   "source": [
    "# Basic operations on numbers\n",
    "print(3*2)\n",
    "print(3+2)\n",
    "print(3-2)\n",
    "print(3/2) #prints actual (float) value\n",
    "print(3**2) #exponent"
   ]
  },
  {
   "attachments": {},
   "cell_type": "markdown",
   "metadata": {},
   "source": [
    "<font size=\"5\"> \n",
    "\n",
    "Use parenthesis for composite operations"
   ]
  },
  {
   "cell_type": "code",
<<<<<<< Updated upstream
   "execution_count": 30,
=======
   "execution_count": 12,
>>>>>>> Stashed changes
   "metadata": {},
   "outputs": [
    {
     "data": {
      "text/plain": [
       "1.4"
      ]
     },
<<<<<<< Updated upstream
     "execution_count": 30,
=======
     "execution_count": 12,
>>>>>>> Stashed changes
     "metadata": {},
     "output_type": "execute_result"
    }
   ],
   "source": [
    "(3 + 4) / 5"
   ]
  },
  {
   "cell_type": "code",
<<<<<<< Updated upstream
   "execution_count": 31,
=======
   "execution_count": 13,
>>>>>>> Stashed changes
   "metadata": {},
   "outputs": [
    {
     "name": "stdout",
     "output_type": "stream",
     "text": [
      "6\n",
      "3.5 times 2 is 7.0\n"
     ]
    }
   ],
   "source": [
    "# Try doing the same with the variable \"number3\" or \"number3andhalf instead.\n",
    "\n",
    "print (number3 *2)\n",
    "new_num = str( (number3andhalf * 2)) #casting\n",
    "print (\"3.5 times 2 is \" + (new_num))\n"
   ]
  },
  {
   "attachments": {},
   "cell_type": "markdown",
   "metadata": {},
   "source": [
    "<font size=\"5\"> \n",
    "\n",
    "Concatenate \"add\" two strings"
   ]
  },
  {
   "cell_type": "code",
<<<<<<< Updated upstream
   "execution_count": 32,
=======
   "execution_count": 14,
>>>>>>> Stashed changes
   "metadata": {},
   "outputs": [
    {
     "data": {
      "text/plain": [
       "'My name is David'"
      ]
     },
<<<<<<< Updated upstream
     "execution_count": 32,
=======
     "execution_count": 14,
>>>>>>> Stashed changes
     "metadata": {},
     "output_type": "execute_result"
    }
   ],
   "source": [
    "# Use the + symbol to concatenate two or more strings\n",
    "# This is very useful to contract strings where one part stays the same,\n",
    "# and the other is a user input.\n",
    "\n",
    "name = \"David\"\n",
    "\n",
    "\"My name is \"  + name"
   ]
  },
  {
   "attachments": {},
   "cell_type": "markdown",
   "metadata": {},
   "source": [
    "# <span style=\"color:darkblue\"> Lists </span>"
   ]
  },
  {
   "attachments": {},
   "cell_type": "markdown",
   "metadata": {},
   "source": [
    "<font size=\"5\"> \n",
    "\n",
    "Store Lists\n",
    "\n",
    "- Lists are always denote by square brackets [...]\n",
    "- Elements separated by commas"
   ]
  },
  {
   "cell_type": "code",
<<<<<<< Updated upstream
   "execution_count": 33,
=======
   "execution_count": 15,
>>>>>>> Stashed changes
   "metadata": {},
   "outputs": [],
   "source": [
    "# List of numbers\n",
    "# Example: Suppose you ask 5 people about their favorite color. The results:\n",
    "list_numbers     = [1,2,3,4,5]\n",
    "list_numbers_sqr = [1,4,9,16,25]"
   ]
  },
  {
   "cell_type": "code",
<<<<<<< Updated upstream
   "execution_count": 34,
=======
   "execution_count": 16,
>>>>>>> Stashed changes
   "metadata": {},
   "outputs": [],
   "source": [
    "# List with strings\n",
    "# Example: Suppose you ask 5 people about their favorite color. The results:\n",
    "list_colors = [\"red\",\"yellow\",\"yellow\", \"green\",\"red\"]"
   ]
  },
  {
   "cell_type": "code",
<<<<<<< Updated upstream
   "execution_count": 35,
=======
   "execution_count": 17,
>>>>>>> Stashed changes
   "metadata": {},
   "outputs": [],
   "source": [
    "# List with mixed types\n",
    "list_mixedtype = [\"red\",1,\"yellow\",4,5]"
   ]
  },
  {
   "attachments": {},
   "cell_type": "markdown",
   "metadata": {},
   "source": [
    "<font size=\"5\">\n",
    "\n",
    "Extract individual elements from a list\n",
    "\n",
    "- Use square brackets, e.g. list_colors[2]\n",
    "- Python lists always start at the **ZERO** position\n",
    "\n",
    "\n",
    "<img src=\"figures/house_diagram.png\" alt=\"drawing\" width=\"650\"/>"
   ]
  },
  {
   "cell_type": "code",
   "execution_count": 36,
   "metadata": {},
   "outputs": [
    {
     "data": {
      "text/plain": [
       "'ground'"
      ]
     },
     "execution_count": 36,
     "metadata": {},
     "output_type": "execute_result"
    }
   ],
   "source": [
    "floors_england = [\"ground\", \"floor1\", \"floor2\" ]\n",
    "\n",
    "floors_england[0]"
   ]
  },
  {
   "cell_type": "code",
<<<<<<< Updated upstream
   "execution_count": 37,
=======
   "execution_count": 18,
>>>>>>> Stashed changes
   "metadata": {},
   "outputs": [
    {
     "name": "stdout",
     "output_type": "stream",
     "text": [
      "red\n",
      "yellow\n",
      "yellow\n",
      "green\n",
      "red\n"
     ]
    }
   ],
   "source": [
    "# Use print to show the output of multiple commands\n",
    "print(list_colors[0]) #0 is the first position in list\n",
    "print(list_colors[1])\n",
    "print(list_colors[2])\n",
    "print(list_colors[3])\n",
    "print(list_colors[4])"
   ]
  },
  {
   "cell_type": "code",
<<<<<<< Updated upstream
   "execution_count": 38,
   "metadata": {},
   "outputs": [],
   "source": [
    "# Try creating a list with four elements, and then selecting the third entry\n",
    "\n"
=======
   "execution_count": 19,
   "metadata": {},
   "outputs": [
    {
     "name": "stdout",
     "output_type": "stream",
     "text": [
      "ground\n",
      "floor1\n",
      "floor2\n"
     ]
    }
   ],
   "source": [
    "floors_england = [\"ground\", \"floor1\", \"floor2\"]\n",
    "for i in floors_england:\n",
    "    print (i)\n"
>>>>>>> Stashed changes
   ]
  },
  {
   "attachments": {},
   "cell_type": "markdown",
   "metadata": {},
   "source": [
    "# <span style=\"color:darkblue\"> Visualizing Lists </span>"
   ]
  },
  {
   "attachments": {},
   "cell_type": "markdown",
   "metadata": {},
   "source": [
    "<font size=\"5\"> \n",
    "\n",
    "A histogram for categorical data"
   ]
  },
  {
   "cell_type": "code",
<<<<<<< Updated upstream
   "execution_count": 39,
=======
   "execution_count": 20,
>>>>>>> Stashed changes
   "metadata": {},
   "outputs": [
    {
     "data": {
      "text/plain": [
       "(array([2., 0., 0., 0., 0., 2., 0., 0., 0., 1.]),\n",
       " array([0. , 0.2, 0.4, 0.6, 0.8, 1. , 1.2, 1.4, 1.6, 1.8, 2. ]),\n",
       " <BarContainer object of 10 artists>)"
      ]
     },
<<<<<<< Updated upstream
     "execution_count": 39,
=======
     "execution_count": 20,
>>>>>>> Stashed changes
     "metadata": {},
     "output_type": "execute_result"
    },
    {
     "data": {
<<<<<<< Updated upstream
      "image/png": "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",
=======
      "image/png": "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",
>>>>>>> Stashed changes
      "text/plain": [
       "<Figure size 640x480 with 1 Axes>"
      ]
     },
     "metadata": {},
     "output_type": "display_data"
    }
   ],
   "source": [
    "# This creates a histogram with the \"list_colors\"\n",
    "plt.hist(x= list_colors)"
   ]
  },
  {
   "cell_type": "code",
<<<<<<< Updated upstream
   "execution_count": 40,
=======
   "execution_count": 21,
>>>>>>> Stashed changes
   "metadata": {},
   "outputs": [
    {
     "data": {
      "text/plain": [
       "(array([2., 1., 0., 1., 0., 3., 1., 0., 1., 4.]),\n",
       " array([0. , 0.6, 1.2, 1.8, 2.4, 3. , 3.6, 4.2, 4.8, 5.4, 6. ]),\n",
       " <BarContainer object of 10 artists>)"
      ]
     },
     "execution_count": 21,
     "metadata": {},
     "output_type": "execute_result"
    },
    {
     "data": {
      "image/png": "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",
      "text/plain": [
       "<Figure size 640x480 with 1 Axes>"
      ]
     },
     "metadata": {},
     "output_type": "display_data"
    }
   ],
   "source": [
    "# Creat a list with repeated string values\n",
    "# Compute your own histogram\n",
    "\n",
    "new_list_numbers = [\"1\",\"1\",\"2\",\"3\",\"4\",\"4\",\"4\",\"5\",\"6\",\"7\",\"7\",\"7\",\"7\"]\n",
    "plt.hist (x = new_list_numbers) \n",
    "#plt.hist = assign x value"
   ]
  },
  {
   "attachments": {},
   "cell_type": "markdown",
   "metadata": {},
   "source": [
    "<font size=\"5\"> \n",
    "\n",
    "A histogram for continuous data"
   ]
  },
  {
   "cell_type": "code",
<<<<<<< Updated upstream
   "execution_count": 41,
=======
   "execution_count": 22,
>>>>>>> Stashed changes
   "metadata": {},
   "outputs": [
    {
     "data": {
<<<<<<< Updated upstream
      "image/png": "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",
=======
      "text/plain": [
       "Text(0.5, 1.0, 'A graph showing the square of a list of numbers :)')"
      ]
     },
     "execution_count": 22,
     "metadata": {},
     "output_type": "execute_result"
    },
    {
     "data": {
      "image/png": "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",
>>>>>>> Stashed changes
      "text/plain": [
       "<Figure size 640x480 with 1 Axes>"
      ]
     },
     "metadata": {},
     "output_type": "display_data"
    }
   ],
   "source": [
<<<<<<< Updated upstream
    "plt.scatter(x = list_numbers, y = list_numbers_sqr)\n",
    "plt.xlabel(\"A meaningful name for the X-axis\")\n",
    "plt.ylabel(\"Favourite name for Y-axis\")\n",
    "plt.show()"
=======
    "plt.scatter(x = list_numbers, y = list_numbers_sqr) \n",
    "#creates scatterplot, assign both x & y value\n",
    "\n",
    "plt.xlabel(\"x-axis\")\n",
    "plt.ylabel(\"y-axis\")\n",
    "plt.title(\"A graph showing the square of a list of numbers :)\")"
>>>>>>> Stashed changes
   ]
  },
  {
   "cell_type": "code",
<<<<<<< Updated upstream
   "execution_count": 42,
=======
   "execution_count": 23,
>>>>>>> Stashed changes
   "metadata": {},
   "outputs": [],
   "source": [
    "# Create a list with numbers, then create your own scatter plot\n",
    "\n",
    "\n"
   ]
  },
  {
   "attachments": {},
   "cell_type": "markdown",
   "metadata": {},
   "source": [
    "# <span style=\"color:darkblue\"> Additional Resources </span>\n",
    "\n",
    "<font size=\"5\"> \n",
    "\n",
    "Check out additional examples at:\n",
    "\n",
    "- https://allendowney.github.io/ElementsOfDataScience/01_variables.html\n",
    "- https://allendowney.github.io/ElementsOfDataScience/03_arrays.html\n",
    "\n"
   ]
  },
  {
   "attachments": {},
   "cell_type": "markdown",
   "metadata": {},
   "source": [
    "# <span style=\"color:darkblue\"> (Optional) Common Pitfalls </span>\n",
    "\n",
    "<font size=\"5\"> \n",
    "\n",
    "It's very common to enter a command incorrectly\n",
    "- There will be an arrow pointing to the problematic line\n",
    "- Focus on the message following \"NameError\""
   ]
  },
  {
   "attachments": {},
   "cell_type": "markdown",
   "metadata": {},
   "source": [
    "<font size=\"5\"> \n",
    "\n",
    "Pro Tip:\n",
    "- Type in google the message for \"NameError\" plus the word Python\n",
    "- Somebody may have a solution/explanation!"
   ]
  },
  {
   "attachments": {},
   "cell_type": "markdown",
   "metadata": {},
   "source": [
    "<font size=\"5\"> \n",
    "\n",
    "Example 1: Not including quotations"
   ]
  },
  {
   "cell_type": "code",
<<<<<<< Updated upstream
   "execution_count": 44,
=======
   "execution_count": 24,
>>>>>>> Stashed changes
   "metadata": {},
   "outputs": [
    {
     "ename": "NameError",
     "evalue": "name 'hello' is not defined",
     "output_type": "error",
     "traceback": [
      "\u001b[0;31m---------------------------------------------------------------------------\u001b[0m",
      "\u001b[0;31mNameError\u001b[0m                                 Traceback (most recent call last)",
<<<<<<< Updated upstream
      "Cell \u001b[0;32mIn[44], line 3\u001b[0m\n\u001b[1;32m      1\u001b[0m \u001b[39m# When you don't include quotation marks,\u001b[39;00m\n\u001b[1;32m      2\u001b[0m \u001b[39m# Python will try to search for a variable called Hello\u001b[39;00m\n\u001b[0;32m----> 3\u001b[0m \u001b[39mtype\u001b[39m(hello)\n",
=======
      "Cell \u001b[0;32mIn[24], line 3\u001b[0m\n\u001b[1;32m      1\u001b[0m \u001b[39m# When you don't include quotation marks,\u001b[39;00m\n\u001b[1;32m      2\u001b[0m \u001b[39m# Python will try to search for a variable called Hello\u001b[39;00m\n\u001b[0;32m----> 3\u001b[0m \u001b[39mtype\u001b[39m(hello)\n",
>>>>>>> Stashed changes
      "\u001b[0;31mNameError\u001b[0m: name 'hello' is not defined"
     ]
    }
   ],
   "source": [
    "# When you don't include quotation marks,\n",
    "# Python will try to search for a variable called Hello\n",
    "type(hello)"
   ]
  },
  {
   "cell_type": "code",
<<<<<<< Updated upstream
   "execution_count": 45,
=======
   "execution_count": null,
>>>>>>> Stashed changes
   "metadata": {},
   "outputs": [
    {
     "data": {
      "text/plain": [
       "str"
      ]
     },
     "execution_count": 45,
     "metadata": {},
     "output_type": "execute_result"
    }
   ],
   "source": [
    "# This commands works if we already defined a variable, e.g.\n",
    "type(message_hello)"
   ]
  },
  {
   "attachments": {},
   "cell_type": "markdown",
   "metadata": {},
   "source": [
    "<font size=\"5\"> \n",
    "\n",
    "Examples 2: Operations with mixed types don't work"
   ]
  },
  {
   "cell_type": "code",
<<<<<<< Updated upstream
   "execution_count": 46,
=======
   "execution_count": null,
>>>>>>> Stashed changes
   "metadata": {},
   "outputs": [
    {
     "ename": "TypeError",
     "evalue": "can only concatenate str (not \"int\") to str",
     "output_type": "error",
     "traceback": [
      "\u001b[0;31m---------------------------------------------------------------------------\u001b[0m",
      "\u001b[0;31mTypeError\u001b[0m                                 Traceback (most recent call last)",
      "Cell \u001b[0;32mIn[46], line 2\u001b[0m\n\u001b[1;32m      1\u001b[0m \u001b[39m# If you add a number and a string you get a concatenated string\u001b[39;00m\n\u001b[0;32m----> 2\u001b[0m \u001b[39mprint\u001b[39m(\u001b[39m\"\u001b[39;49m\u001b[39mhola\u001b[39;49m\u001b[39m\"\u001b[39;49m \u001b[39m+\u001b[39;49m number3)\n",
      "\u001b[0;31mTypeError\u001b[0m: can only concatenate str (not \"int\") to str"
     ]
    }
   ],
   "source": [
    "# If you add a number and a string you get a concatenated string\n",
    "print(\"hola\" + number3)"
   ]
  },
  {
   "cell_type": "code",
<<<<<<< Updated upstream
   "execution_count": 47,
=======
   "execution_count": null,
>>>>>>> Stashed changes
   "metadata": {},
   "outputs": [
    {
     "name": "stdout",
     "output_type": "stream",
     "text": [
      "hola3\n"
     ]
    }
   ],
   "source": [
    "# You can convert an integer to string first\n",
    "print(\"hola\" + str(number3))"
   ]
  },
  {
   "attachments": {},
   "cell_type": "markdown",
   "metadata": {},
   "source": [
    "<font size=\"5\"> \n",
    "\n",
    "Examples 3: Not all mathematical operations on numeric lists work\n",
    "\n",
    "- We need a different object: arrays!\n",
    "- We'll look into this in future classes"
   ]
  },
  {
   "cell_type": "code",
<<<<<<< Updated upstream
   "execution_count": 63,
=======
   "execution_count": null,
>>>>>>> Stashed changes
   "metadata": {},
   "outputs": [
    {
     "ename": "TypeError",
     "evalue": "unsupported operand type(s) for /: 'list' and 'int'",
     "output_type": "error",
     "traceback": [
      "\u001b[0;31m---------------------------------------------------------------------------\u001b[0m",
      "\u001b[0;31mTypeError\u001b[0m                                 Traceback (most recent call last)",
      "Cell \u001b[0;32mIn[63], line 1\u001b[0m\n\u001b[0;32m----> 1\u001b[0m list_numbers \u001b[39m/\u001b[39;49m \u001b[39m2\u001b[39;49m\n",
      "\u001b[0;31mTypeError\u001b[0m: unsupported operand type(s) for /: 'list' and 'int'"
     ]
    }
   ],
   "source": [
<<<<<<< Updated upstream
    "list_numbers / 2"
=======
    "# You can convert an integer to string first\n",
    "list_numeric * 2\n",
    "\n",
    "\n",
    "#python: lists = strings, arrays = numbers"
>>>>>>> Stashed changes
   ]
  }
 ],
 "metadata": {
  "kernelspec": {
   "display_name": "Python 3",
   "language": "python",
   "name": "python3"
  },
  "language_info": {
   "codemirror_mode": {
    "name": "ipython",
    "version": 3
   },
   "file_extension": ".py",
   "mimetype": "text/x-python",
   "name": "python",
   "nbconvert_exporter": "python",
   "pygments_lexer": "ipython3",
   "version": "3.11.1 (v3.11.1:a7a450f84a, Dec  6 2022, 15:24:06) [Clang 13.0.0 (clang-1300.0.29.30)]"
  },
  "orig_nbformat": 4,
  "vscode": {
   "interpreter": {
    "hash": "aee8b7b246df8f9039afb4144a1f6fd8d2ca17a180786b69acc140d282b71a49"
   }
  }
 },
 "nbformat": 4,
 "nbformat_minor": 2
}
